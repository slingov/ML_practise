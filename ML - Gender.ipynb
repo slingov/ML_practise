{
 "cells": [
  {
   "cell_type": "markdown",
   "id": "e4466bb5",
   "metadata": {},
   "source": [
    "## Part 1: Import, Load Data."
   ]
  },
  {
   "cell_type": "code",
   "execution_count": 11,
   "id": "d252a443",
   "metadata": {},
   "outputs": [],
   "source": [
    "#import libriaries\n",
    "import pandas as pd\n",
    "import numpy as np\n",
    "import seaborn as sns\n",
    "sns.set()\n",
    "import matplotlib.pyplot as plt\n",
    "%matplotlib inline\n",
    "\n",
    "from sklearn.preprocessing import LabelEncoder, StandardScaler\n",
    "from sklearn.model_selection import train_test_split, GridSearchCV\n",
    "import sklearn.metrics as metrics\n",
    "from sklearn.metrics import accuracy_score, confusion_matrix, classification_report, roc_auc_score\n",
    "from sklearn.linear_model import LogisticRegression\n",
    "\n",
    "import warnings\n",
    "warnings.filterwarnings('ignore')"
   ]
  },
  {
   "cell_type": "code",
   "execution_count": 12,
   "id": "b10bc67b",
   "metadata": {},
   "outputs": [],
   "source": [
    "# read data from '.csv' file\n",
    "df = pd.read_csv('gender.csv')"
   ]
  },
  {
   "cell_type": "code",
   "execution_count": 13,
   "id": "5701435a",
   "metadata": {},
   "outputs": [
    {
     "name": "stdout",
     "output_type": "stream",
     "text": [
      "<class 'pandas.core.frame.DataFrame'>\n",
      "RangeIndex: 66 entries, 0 to 65\n",
      "Data columns (total 5 columns):\n",
      " #   Column                Non-Null Count  Dtype \n",
      "---  ------                --------------  ----- \n",
      " 0   Favorite Color        66 non-null     object\n",
      " 1   Favorite Music Genre  66 non-null     object\n",
      " 2   Favorite Beverage     66 non-null     object\n",
      " 3   Favorite Soft Drink   66 non-null     object\n",
      " 4   Gender                66 non-null     object\n",
      "dtypes: object(5)\n",
      "memory usage: 2.7+ KB\n"
     ]
    }
   ],
   "source": [
    "df.info()"
   ]
  },
  {
   "cell_type": "code",
   "execution_count": 14,
   "id": "b1d938ce",
   "metadata": {},
   "outputs": [
    {
     "data": {
      "text/html": [
       "<div>\n",
       "<style scoped>\n",
       "    .dataframe tbody tr th:only-of-type {\n",
       "        vertical-align: middle;\n",
       "    }\n",
       "\n",
       "    .dataframe tbody tr th {\n",
       "        vertical-align: top;\n",
       "    }\n",
       "\n",
       "    .dataframe thead th {\n",
       "        text-align: right;\n",
       "    }\n",
       "</style>\n",
       "<table border=\"1\" class=\"dataframe\">\n",
       "  <thead>\n",
       "    <tr style=\"text-align: right;\">\n",
       "      <th></th>\n",
       "      <th>Favorite Color</th>\n",
       "      <th>Favorite Music Genre</th>\n",
       "      <th>Favorite Beverage</th>\n",
       "      <th>Favorite Soft Drink</th>\n",
       "      <th>Gender</th>\n",
       "    </tr>\n",
       "  </thead>\n",
       "  <tbody>\n",
       "    <tr>\n",
       "      <th>0</th>\n",
       "      <td>Cool</td>\n",
       "      <td>Rock</td>\n",
       "      <td>Vodka</td>\n",
       "      <td>7UP/Sprite</td>\n",
       "      <td>F</td>\n",
       "    </tr>\n",
       "    <tr>\n",
       "      <th>1</th>\n",
       "      <td>Neutral</td>\n",
       "      <td>Hip hop</td>\n",
       "      <td>Vodka</td>\n",
       "      <td>Coca Cola/Pepsi</td>\n",
       "      <td>F</td>\n",
       "    </tr>\n",
       "    <tr>\n",
       "      <th>2</th>\n",
       "      <td>Warm</td>\n",
       "      <td>Rock</td>\n",
       "      <td>Wine</td>\n",
       "      <td>Coca Cola/Pepsi</td>\n",
       "      <td>F</td>\n",
       "    </tr>\n",
       "    <tr>\n",
       "      <th>3</th>\n",
       "      <td>Warm</td>\n",
       "      <td>Folk/Traditional</td>\n",
       "      <td>Whiskey</td>\n",
       "      <td>Fanta</td>\n",
       "      <td>F</td>\n",
       "    </tr>\n",
       "    <tr>\n",
       "      <th>4</th>\n",
       "      <td>Cool</td>\n",
       "      <td>Rock</td>\n",
       "      <td>Vodka</td>\n",
       "      <td>Coca Cola/Pepsi</td>\n",
       "      <td>F</td>\n",
       "    </tr>\n",
       "  </tbody>\n",
       "</table>\n",
       "</div>"
      ],
      "text/plain": [
       "  Favorite Color Favorite Music Genre Favorite Beverage Favorite Soft Drink  \\\n",
       "0           Cool                 Rock             Vodka          7UP/Sprite   \n",
       "1        Neutral              Hip hop             Vodka     Coca Cola/Pepsi   \n",
       "2           Warm                 Rock              Wine     Coca Cola/Pepsi   \n",
       "3           Warm     Folk/Traditional           Whiskey               Fanta   \n",
       "4           Cool                 Rock             Vodka     Coca Cola/Pepsi   \n",
       "\n",
       "  Gender  \n",
       "0      F  \n",
       "1      F  \n",
       "2      F  \n",
       "3      F  \n",
       "4      F  "
      ]
     },
     "execution_count": 14,
     "metadata": {},
     "output_type": "execute_result"
    }
   ],
   "source": [
    "df.head()"
   ]
  },
  {
   "cell_type": "markdown",
   "id": "942d5e4d",
   "metadata": {},
   "source": [
    "### Rename Columns"
   ]
  },
  {
   "cell_type": "code",
   "execution_count": 15,
   "id": "eb851853",
   "metadata": {},
   "outputs": [
    {
     "data": {
      "text/plain": [
       "Index(['color', 'music', 'beverage', 'softdrink', 'gender'], dtype='object')"
      ]
     },
     "execution_count": 15,
     "metadata": {},
     "output_type": "execute_result"
    }
   ],
   "source": [
    "# columns rename\n",
    "df.columns = ['color', 'music', 'beverage', 'softdrink', 'gender']\n",
    "df.columns"
   ]
  },
  {
   "cell_type": "markdown",
   "id": "0c780e98",
   "metadata": {},
   "source": [
    "### Columns visualisation\n"
   ]
  },
  {
   "cell_type": "code",
   "execution_count": 16,
   "id": "658fc7d5",
   "metadata": {},
   "outputs": [
    {
     "data": {
      "image/png": "[encoded data removed]",
      "text/plain": [
       "<Figure size 720x1296 with 5 Axes>"
      ]
     },
     "metadata": {
      "needs_background": "light"
     },
     "output_type": "display_data"
    }
   ],
   "source": [
    "# columns visualisation\n",
    "fig, axes = plt.subplots(nrows=5, ncols=1, figsize=(10,18))\n",
    "for i in range(len(df.columns)):\n",
    "    sns.countplot(data=df, x=df.iloc[:,i],ax=axes[i])"
   ]
  },
  {
   "cell_type": "markdown",
   "id": "e07b24da",
   "metadata": {},
   "source": [
    "### 'gender' attribute value counts"
   ]
  },
  {
   "cell_type": "code",
   "execution_count": 17,
   "id": "d5b78bcf",
   "metadata": {},
   "outputs": [
    {
     "data": {
      "text/plain": [
       "M    33\n",
       "F    33\n",
       "Name: gender, dtype: int64"
      ]
     },
     "execution_count": 17,
     "metadata": {},
     "output_type": "execute_result"
    }
   ],
   "source": [
    "# 'gender' value counts \n",
    "df['gender'].value_counts()"
   ]
  },
  {
   "cell_type": "markdown",
   "id": "802949fa",
   "metadata": {},
   "source": [
    "### Encode the Data"
   ]
  },
  {
   "cell_type": "code",
   "execution_count": 18,
   "id": "ecb45889",
   "metadata": {},
   "outputs": [
    {
     "data": {
      "text/html": [
       "<div>\n",
       "<style scoped>\n",
       "    .dataframe tbody tr th:only-of-type {\n",
       "        vertical-align: middle;\n",
       "    }\n",
       "\n",
       "    .dataframe tbody tr th {\n",
       "        vertical-align: top;\n",
       "    }\n",
       "\n",
       "    .dataframe thead th {\n",
       "        text-align: right;\n",
       "    }\n",
       "</style>\n",
       "<table border=\"1\" class=\"dataframe\">\n",
       "  <thead>\n",
       "    <tr style=\"text-align: right;\">\n",
       "      <th></th>\n",
       "      <th>color</th>\n",
       "      <th>music</th>\n",
       "      <th>beverage</th>\n",
       "      <th>softdrink</th>\n",
       "      <th>gender</th>\n",
       "    </tr>\n",
       "  </thead>\n",
       "  <tbody>\n",
       "    <tr>\n",
       "      <th>0</th>\n",
       "      <td>0</td>\n",
       "      <td>6</td>\n",
       "      <td>3</td>\n",
       "      <td>0</td>\n",
       "      <td>0</td>\n",
       "    </tr>\n",
       "    <tr>\n",
       "      <th>1</th>\n",
       "      <td>1</td>\n",
       "      <td>2</td>\n",
       "      <td>3</td>\n",
       "      <td>1</td>\n",
       "      <td>0</td>\n",
       "    </tr>\n",
       "    <tr>\n",
       "      <th>2</th>\n",
       "      <td>2</td>\n",
       "      <td>6</td>\n",
       "      <td>5</td>\n",
       "      <td>1</td>\n",
       "      <td>0</td>\n",
       "    </tr>\n",
       "    <tr>\n",
       "      <th>3</th>\n",
       "      <td>2</td>\n",
       "      <td>1</td>\n",
       "      <td>4</td>\n",
       "      <td>2</td>\n",
       "      <td>0</td>\n",
       "    </tr>\n",
       "    <tr>\n",
       "      <th>4</th>\n",
       "      <td>0</td>\n",
       "      <td>6</td>\n",
       "      <td>3</td>\n",
       "      <td>1</td>\n",
       "      <td>0</td>\n",
       "    </tr>\n",
       "  </tbody>\n",
       "</table>\n",
       "</div>"
      ],
      "text/plain": [
       "   color  music  beverage  softdrink  gender\n",
       "0      0      6         3          0       0\n",
       "1      1      2         3          1       0\n",
       "2      2      6         5          1       0\n",
       "3      2      1         4          2       0\n",
       "4      0      6         3          1       0"
      ]
     },
     "execution_count": 18,
     "metadata": {},
     "output_type": "execute_result"
    }
   ],
   "source": [
    "# label encoding\n",
    "le_color = LabelEncoder()\n",
    "data = df\n",
    "data['color'] = le_color.fit_transform(df.color.values)\n",
    "le_music = LabelEncoder()\n",
    "data['music'] = le_music.fit_transform(df.music.values)\n",
    "le_beverage = LabelEncoder()\n",
    "data['beverage'] = le_beverage.fit_transform(df.beverage.values)\n",
    "le_softdrink = LabelEncoder()\n",
    "data['softdrink'] = le_softdrink.fit_transform(df.softdrink.values)\n",
    "le_gender = LabelEncoder()\n",
    "data['gender'] = le_gender.fit_transform(df.gender.values)\n",
    "data.head()"
   ]
  },
  {
   "cell_type": "markdown",
   "id": "59369f09",
   "metadata": {},
   "source": [
    "## Part 3: Data Wrangling and Transformation."
   ]
  },
  {
   "cell_type": "markdown",
   "id": "a2e5bccb",
   "metadata": {},
   "source": [
    "### Creating datasets for ML part"
   ]
  },
  {
   "cell_type": "code",
   "execution_count": 19,
   "id": "4f80fa84",
   "metadata": {},
   "outputs": [],
   "source": [
    "# set 'X' for features' and y' for the target ('gender').\n",
    "y = data['gender']\n",
    "X = data.drop(['gender'],axis=1)"
   ]
  },
  {
   "cell_type": "markdown",
   "id": "bfe79a68",
   "metadata": {},
   "source": [
    "### 'Train\\Test' split"
   ]
  },
  {
   "cell_type": "code",
   "execution_count": 20,
   "id": "9765540b",
   "metadata": {},
   "outputs": [],
   "source": [
    "# 'Train\\Test' splitting method\n",
    "X_train, X_test,y_train, y_test = train_test_split(X,y,test_size=0.3, random_state=0)"
   ]
  },
  {
   "cell_type": "markdown",
   "id": "015b58ca",
   "metadata": {},
   "source": [
    "## Part 4: Machine Learning."
   ]
  },
  {
   "cell_type": "markdown",
   "id": "a340de73",
   "metadata": {},
   "source": [
    "### Build, train and evaluate model"
   ]
  },
  {
   "cell_type": "markdown",
   "id": "fa32bcb2",
   "metadata": {},
   "source": [
    "### Logistic Regression"
   ]
  },
  {
   "cell_type": "code",
   "execution_count": 22,
   "id": "c1dd5f4f",
   "metadata": {},
   "outputs": [],
   "source": [
    "# Logistic Regression model\n",
    "LR = LogisticRegression(random_state=0)\n",
    "LR.fit(X_train, y_train)\n",
    "LR_pred = LR.predict(X_test)"
   ]
  },
  {
   "cell_type": "code",
   "execution_count": 23,
   "id": "8c4396cc",
   "metadata": {},
   "outputs": [
    {
     "data": {
      "text/plain": [
       "array([1, 1, 1, 1, 1, 0, 0, 0, 1, 0, 1, 0, 0, 1, 1, 0, 0, 0, 0, 0])"
      ]
     },
     "execution_count": 23,
     "metadata": {},
     "output_type": "execute_result"
    }
   ],
   "source": [
    "# LR predictions\n",
    "LR_pred"
   ]
  },
  {
   "cell_type": "markdown",
   "id": "61235b87",
   "metadata": {},
   "source": [
    "## Visualisation of predictions"
   ]
  },
  {
   "cell_type": "code",
   "execution_count": 24,
   "id": "9b01192c",
   "metadata": {},
   "outputs": [
    {
     "data": {
      "text/html": [
       "<style  type=\"text/css\" >\n",
       "#T_74bea_row0_col0,#T_74bea_row0_col1,#T_74bea_row1_col1,#T_74bea_row2_col1,#T_74bea_row3_col0,#T_74bea_row3_col1,#T_74bea_row4_col0,#T_74bea_row4_col1,#T_74bea_row6_col0,#T_74bea_row7_col0,#T_74bea_row8_col0,#T_74bea_row8_col1{\n",
       "            background-color:  #08306b;\n",
       "            color:  #f1f1f1;\n",
       "        }#T_74bea_row1_col0,#T_74bea_row2_col0,#T_74bea_row5_col0,#T_74bea_row5_col1,#T_74bea_row6_col1,#T_74bea_row7_col1,#T_74bea_row9_col0,#T_74bea_row9_col1{\n",
       "            background-color:  #f7fbff;\n",
       "            color:  #000000;\n",
       "        }</style><table id=\"T_74bea_\" ><thead>    <tr>        <th class=\"blank level0\" ></th>        <th class=\"col_heading level0 col0\" >Actual Gender</th>        <th class=\"col_heading level0 col1\" >LR Predicted Gender</th>    </tr></thead><tbody>\n",
       "                <tr>\n",
       "                        <th id=\"T_74bea_level0_row0\" class=\"row_heading level0 row0\" >45</th>\n",
       "                        <td id=\"T_74bea_row0_col0\" class=\"data row0 col0\" >1</td>\n",
       "                        <td id=\"T_74bea_row0_col1\" class=\"data row0 col1\" >1</td>\n",
       "            </tr>\n",
       "            <tr>\n",
       "                        <th id=\"T_74bea_level0_row1\" class=\"row_heading level0 row1\" >28</th>\n",
       "                        <td id=\"T_74bea_row1_col0\" class=\"data row1 col0\" >0</td>\n",
       "                        <td id=\"T_74bea_row1_col1\" class=\"data row1 col1\" >1</td>\n",
       "            </tr>\n",
       "            <tr>\n",
       "                        <th id=\"T_74bea_level0_row2\" class=\"row_heading level0 row2\" >29</th>\n",
       "                        <td id=\"T_74bea_row2_col0\" class=\"data row2 col0\" >0</td>\n",
       "                        <td id=\"T_74bea_row2_col1\" class=\"data row2 col1\" >1</td>\n",
       "            </tr>\n",
       "            <tr>\n",
       "                        <th id=\"T_74bea_level0_row3\" class=\"row_heading level0 row3\" >55</th>\n",
       "                        <td id=\"T_74bea_row3_col0\" class=\"data row3 col0\" >1</td>\n",
       "                        <td id=\"T_74bea_row3_col1\" class=\"data row3 col1\" >1</td>\n",
       "            </tr>\n",
       "            <tr>\n",
       "                        <th id=\"T_74bea_level0_row4\" class=\"row_heading level0 row4\" >63</th>\n",
       "                        <td id=\"T_74bea_row4_col0\" class=\"data row4 col0\" >1</td>\n",
       "                        <td id=\"T_74bea_row4_col1\" class=\"data row4 col1\" >1</td>\n",
       "            </tr>\n",
       "            <tr>\n",
       "                        <th id=\"T_74bea_level0_row5\" class=\"row_heading level0 row5\" >31</th>\n",
       "                        <td id=\"T_74bea_row5_col0\" class=\"data row5 col0\" >0</td>\n",
       "                        <td id=\"T_74bea_row5_col1\" class=\"data row5 col1\" >0</td>\n",
       "            </tr>\n",
       "            <tr>\n",
       "                        <th id=\"T_74bea_level0_row6\" class=\"row_heading level0 row6\" >51</th>\n",
       "                        <td id=\"T_74bea_row6_col0\" class=\"data row6 col0\" >1</td>\n",
       "                        <td id=\"T_74bea_row6_col1\" class=\"data row6 col1\" >0</td>\n",
       "            </tr>\n",
       "            <tr>\n",
       "                        <th id=\"T_74bea_level0_row7\" class=\"row_heading level0 row7\" >46</th>\n",
       "                        <td id=\"T_74bea_row7_col0\" class=\"data row7 col0\" >1</td>\n",
       "                        <td id=\"T_74bea_row7_col1\" class=\"data row7 col1\" >0</td>\n",
       "            </tr>\n",
       "            <tr>\n",
       "                        <th id=\"T_74bea_level0_row8\" class=\"row_heading level0 row8\" >34</th>\n",
       "                        <td id=\"T_74bea_row8_col0\" class=\"data row8 col0\" >1</td>\n",
       "                        <td id=\"T_74bea_row8_col1\" class=\"data row8 col1\" >1</td>\n",
       "            </tr>\n",
       "            <tr>\n",
       "                        <th id=\"T_74bea_level0_row9\" class=\"row_heading level0 row9\" >4</th>\n",
       "                        <td id=\"T_74bea_row9_col0\" class=\"data row9 col0\" >0</td>\n",
       "                        <td id=\"T_74bea_row9_col1\" class=\"data row9 col1\" >0</td>\n",
       "            </tr>\n",
       "    </tbody></table>"
      ],
      "text/plain": [
       "<pandas.io.formats.style.Styler at 0x2d9b9e340a0>"
      ]
     },
     "execution_count": 24,
     "metadata": {},
     "output_type": "execute_result"
    }
   ],
   "source": [
    "# visual comparison between Actual 'Gender' and Predicted 'Gender'\n",
    "actualvspredicted = pd.DataFrame({\"Actual Gender\":y_test,\"LR Predicted Gender\":LR_pred})\n",
    "actualvspredicted.head(10).style.background_gradient(cmap='Blues')"
   ]
  },
  {
   "cell_type": "markdown",
   "id": "9a792186",
   "metadata": {},
   "source": [
    "### Classification report"
   ]
  },
  {
   "cell_type": "code",
   "execution_count": 25,
   "id": "2ca11fed",
   "metadata": {},
   "outputs": [
    {
     "name": "stdout",
     "output_type": "stream",
     "text": [
      "LR Classification Report: \n",
      "               precision    recall  f1-score   support\n",
      "\n",
      "           0   0.636364  0.777778  0.700000         9\n",
      "           1   0.777778  0.636364  0.700000        11\n",
      "\n",
      "    accuracy                       0.700000        20\n",
      "   macro avg   0.707071  0.707071  0.700000        20\n",
      "weighted avg   0.714141  0.700000  0.700000        20\n",
      "\n"
     ]
    }
   ],
   "source": [
    "# classification report of LR model\n",
    "print(\"LR Classification Report: \\n\", classification_report(y_test, LR_pred, digits = 6))"
   ]
  },
  {
   "cell_type": "markdown",
   "id": "64c49714",
   "metadata": {},
   "source": [
    "### Confusion matrix"
   ]
  },
  {
   "cell_type": "code",
   "execution_count": 26,
   "id": "22b968e6",
   "metadata": {},
   "outputs": [
    {
     "name": "stdout",
     "output_type": "stream",
     "text": [
      "LR Confusion Matrix\n"
     ]
    },
    {
     "data": {
      "image/png": "[encoded data removed]",
      "text/plain": [
       "<Figure size 432x288 with 2 Axes>"
      ]
     },
     "metadata": {
      "needs_background": "light"
     },
     "output_type": "display_data"
    },
    {
     "name": "stdout",
     "output_type": "stream",
     "text": [
      "\n"
     ]
    }
   ],
   "source": [
    "# confusion matrix of LR model\n",
    "LR_confusion_mx = confusion_matrix(y_test, LR_pred)\n",
    "print('LR Confusion Matrix')\n",
    "\n",
    "# visualisation\n",
    "ax = plt.subplot()\n",
    "sns.heatmap(LR_confusion_mx, annot = True, fmt = 'd', cmap = 'Blues', ax = ax, linewidths = 0.5, annot_kws = {'size': 15})\n",
    "ax.set_ylabel('FP       True label        TP')\n",
    "ax.set_xlabel('FN       Predicted label        TN')\n",
    "ax.xaxis.set_ticklabels(['1', '0'], fontsize = 10)\n",
    "ax.yaxis.set_ticklabels(['1', '0'], fontsize = 10)\n",
    "plt.show()\n",
    "print()"
   ]
  },
  {
   "cell_type": "code",
   "execution_count": 27,
   "id": "3a9f76b8",
   "metadata": {},
   "outputs": [
    {
     "data": {
      "text/plain": [
       "0.7070707070707071"
      ]
     },
     "execution_count": 27,
     "metadata": {},
     "output_type": "execute_result"
    }
   ],
   "source": [
    "# ROC-AUC score of LR model\n",
    "roc_auc_score(LR_pred, y_test)"
   ]
  },
  {
   "cell_type": "code",
   "execution_count": null,
   "id": "604e19c8",
   "metadata": {},
   "outputs": [],
   "source": []
  }
 ],
 "metadata": {
  "kernelspec": {
   "display_name": "Python 3",
   "language": "python",
   "name": "python3"
  },
  "language_info": {
   "codemirror_mode": {
    "name": "ipython",
    "version": 3
   },
   "file_extension": ".py",
   "mimetype": "text/x-python",
   "name": "python",
   "nbconvert_exporter": "python",
   "pygments_lexer": "ipython3",
   "version": "3.8.8"
  }
 },
 "nbformat": 4,
 "nbformat_minor": 5
}
